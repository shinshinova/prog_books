{
 "cells": [
  {
   "cell_type": "markdown",
   "id": "c4ad93b0",
   "metadata": {},
   "source": [
    "# Анализ и составление рекомендательной модели на основе топ 270 книг по программированию и компьютерным наукам.\n",
    "\n",
    "Данные: https://www.kaggle.com/thomaskonstantin/top-270-rated-computer-science-programing-books "
   ]
  },
  {
   "cell_type": "code",
   "execution_count": 19,
   "id": "2ad492a0",
   "metadata": {},
   "outputs": [],
   "source": [
    "import numpy as np\n",
    "import pandas as pd\n",
    "import matplotlib.pyplot as plt\n",
    "import seaborn as sns\n",
    "from sklearn.feature_extraction.text import TfidfVectorizer\n",
    "from sklearn.metrics.pairwise import cosine_similarity"
   ]
  },
  {
   "cell_type": "code",
   "execution_count": 2,
   "id": "ebe02463",
   "metadata": {},
   "outputs": [
    {
     "data": {
      "text/html": [
       "<div>\n",
       "<style scoped>\n",
       "    .dataframe tbody tr th:only-of-type {\n",
       "        vertical-align: middle;\n",
       "    }\n",
       "\n",
       "    .dataframe tbody tr th {\n",
       "        vertical-align: top;\n",
       "    }\n",
       "\n",
       "    .dataframe thead th {\n",
       "        text-align: right;\n",
       "    }\n",
       "</style>\n",
       "<table border=\"1\" class=\"dataframe\">\n",
       "  <thead>\n",
       "    <tr style=\"text-align: right;\">\n",
       "      <th></th>\n",
       "      <th>Rating</th>\n",
       "      <th>Reviews</th>\n",
       "      <th>Book_title</th>\n",
       "      <th>Description</th>\n",
       "      <th>Number_Of_Pages</th>\n",
       "      <th>Type</th>\n",
       "      <th>Price</th>\n",
       "    </tr>\n",
       "  </thead>\n",
       "  <tbody>\n",
       "    <tr>\n",
       "      <th>0</th>\n",
       "      <td>4.17</td>\n",
       "      <td>3,829</td>\n",
       "      <td>The Elements of Style</td>\n",
       "      <td>This style manual offers practical advice on i...</td>\n",
       "      <td>105</td>\n",
       "      <td>Hardcover</td>\n",
       "      <td>9.323529</td>\n",
       "    </tr>\n",
       "    <tr>\n",
       "      <th>1</th>\n",
       "      <td>4.01</td>\n",
       "      <td>1,406</td>\n",
       "      <td>The Information: A History, a Theory, a Flood</td>\n",
       "      <td>James Gleick, the author of the best sellers C...</td>\n",
       "      <td>527</td>\n",
       "      <td>Hardcover</td>\n",
       "      <td>11.000000</td>\n",
       "    </tr>\n",
       "    <tr>\n",
       "      <th>2</th>\n",
       "      <td>3.33</td>\n",
       "      <td>0</td>\n",
       "      <td>Responsive Web Design Overview For Beginners</td>\n",
       "      <td>In Responsive Web Design Overview For Beginner...</td>\n",
       "      <td>50</td>\n",
       "      <td>Kindle Edition</td>\n",
       "      <td>11.267647</td>\n",
       "    </tr>\n",
       "    <tr>\n",
       "      <th>3</th>\n",
       "      <td>3.97</td>\n",
       "      <td>1,658</td>\n",
       "      <td>Ghost in the Wires: My Adventures as the World...</td>\n",
       "      <td>If they were a hall of fame or shame for compu...</td>\n",
       "      <td>393</td>\n",
       "      <td>Hardcover</td>\n",
       "      <td>12.873529</td>\n",
       "    </tr>\n",
       "    <tr>\n",
       "      <th>4</th>\n",
       "      <td>4.06</td>\n",
       "      <td>1,325</td>\n",
       "      <td>How Google Works</td>\n",
       "      <td>Both Eric Schmidt and Jonathan Rosenberg came ...</td>\n",
       "      <td>305</td>\n",
       "      <td>Kindle Edition</td>\n",
       "      <td>13.164706</td>\n",
       "    </tr>\n",
       "  </tbody>\n",
       "</table>\n",
       "</div>"
      ],
      "text/plain": [
       "   Rating Reviews                                         Book_title  \\\n",
       "0    4.17   3,829                              The Elements of Style   \n",
       "1    4.01   1,406      The Information: A History, a Theory, a Flood   \n",
       "2    3.33       0       Responsive Web Design Overview For Beginners   \n",
       "3    3.97   1,658  Ghost in the Wires: My Adventures as the World...   \n",
       "4    4.06   1,325                                   How Google Works   \n",
       "\n",
       "                                         Description  Number_Of_Pages  \\\n",
       "0  This style manual offers practical advice on i...              105   \n",
       "1  James Gleick, the author of the best sellers C...              527   \n",
       "2  In Responsive Web Design Overview For Beginner...               50   \n",
       "3  If they were a hall of fame or shame for compu...              393   \n",
       "4  Both Eric Schmidt and Jonathan Rosenberg came ...              305   \n",
       "\n",
       "             Type      Price  \n",
       "0       Hardcover   9.323529  \n",
       "1       Hardcover  11.000000  \n",
       "2  Kindle Edition  11.267647  \n",
       "3       Hardcover  12.873529  \n",
       "4  Kindle Edition  13.164706  "
      ]
     },
     "execution_count": 2,
     "metadata": {},
     "output_type": "execute_result"
    }
   ],
   "source": [
    "df = pd.read_csv('prog_book.csv')\n",
    "df.head()"
   ]
  },
  {
   "cell_type": "code",
   "execution_count": 21,
   "id": "92b21207",
   "metadata": {},
   "outputs": [],
   "source": [
    "df['Reviews'] = df['Reviews'].apply(lambda x : int(x.replace(',','')))"
   ]
  },
  {
   "cell_type": "markdown",
   "id": "603f5f65",
   "metadata": {},
   "source": [
    "# Визуализация:"
   ]
  },
  {
   "cell_type": "code",
   "execution_count": 37,
   "id": "76bf898f",
   "metadata": {},
   "outputs": [
    {
     "data": {
      "image/png": "[encoded data removed]",
      "text/plain": [
       "<Figure size 1152x432 with 1 Axes>"
      ]
     },
     "metadata": {
      "needs_background": "light"
     },
     "output_type": "display_data"
    }
   ],
   "source": [
    "plt.figure(figsize=(16,6))\n",
    "plt.title('Стоимость книг по категориям')\n",
    "\n",
    "sns.barplot(x = 'Type',y = 'Price', data = df)\n",
    "pass"
   ]
  },
  {
   "cell_type": "markdown",
   "id": "4a506a17",
   "metadata": {},
   "source": [
    "### Вывод: книги в твердом переплете в коробках — самые дорогие, что в целом очевидно."
   ]
  },
  {
   "cell_type": "code",
   "execution_count": 39,
   "id": "8b9001cc",
   "metadata": {},
   "outputs": [
    {
     "data": {
      "image/png": "[encoded data removed]",
      "text/plain": [
       "<Figure size 1152x432 with 1 Axes>"
      ]
     },
     "metadata": {
      "needs_background": "light"
     },
     "output_type": "display_data"
    }
   ],
   "source": [
    "plt.figure(figsize=(16,6))\n",
    "plt.title('Рейтинг книг по категориям')\n",
    "\n",
    "sns.boxplot(x = 'Type',y = 'Rating',data = df)\n",
    "pass"
   ]
  },
  {
   "cell_type": "markdown",
   "id": "5a58390b",
   "metadata": {},
   "source": [
    "### Вывод: рейтинг книг по категориям в среднем находится в пределах 4 - 4.25. У Ebook сегмента сильное смещение среднего значения."
   ]
  },
  {
   "cell_type": "code",
   "execution_count": 47,
   "id": "070f9477",
   "metadata": {},
   "outputs": [
    {
     "name": "stderr",
     "output_type": "stream",
     "text": [
      "/opt/anaconda3/lib/python3.8/site-packages/seaborn/distributions.py:2557: FutureWarning: `distplot` is a deprecated function and will be removed in a future version. Please adapt your code to use either `displot` (a figure-level function with similar flexibility) or `histplot` (an axes-level function for histograms).\n",
      "  warnings.warn(msg, FutureWarning)\n"
     ]
    },
    {
     "data": {
      "image/png": "[encoded data removed]",
      "text/plain": [
       "<Figure size 1152x432 with 1 Axes>"
      ]
     },
     "metadata": {},
     "output_type": "display_data"
    }
   ],
   "source": [
    "sns.set(rc={'figure.figsize':(16,6)})\n",
    "sns.distplot(df['Price'])\n",
    "pass"
   ]
  },
  {
   "cell_type": "markdown",
   "id": "d0ab1acb",
   "metadata": {},
   "source": [
    "Видим, что средняя цена книг находится в пределах 50$."
   ]
  },
  {
   "cell_type": "markdown",
   "id": "0beb955f",
   "metadata": {},
   "source": [
    "# Посмотрим на корреляцию:"
   ]
  },
  {
   "cell_type": "code",
   "execution_count": 51,
   "id": "08974a55",
   "metadata": {
    "scrolled": false
   },
   "outputs": [
    {
     "data": {
      "image/png": "[encoded data removed]",
      "text/plain": [
       "<Figure size 1080x576 with 2 Axes>"
      ]
     },
     "metadata": {},
     "output_type": "display_data"
    }
   ],
   "source": [
    "corr_matrix = df[list(df.columns)].corr()\n",
    "sns.set(rc = {'figure.figsize':(15,8)})\n",
    "sns.heatmap(corr_matrix, annot=True)\n",
    "pass"
   ]
  },
  {
   "cell_type": "markdown",
   "id": "d68aa5fc",
   "metadata": {},
   "source": [
    "Видим, что количество сраниц сильно скоррелированно с ценой изделия, что также логично."
   ]
  },
  {
   "cell_type": "markdown",
   "id": "0266c00b",
   "metadata": {},
   "source": [
    "# Переходим к составлению рекомендательной модели:"
   ]
  },
  {
   "cell_type": "markdown",
   "id": "7f1a773f",
   "metadata": {},
   "source": [
    "###  Будем использовать колонки \"Book_title\" и \"Description\", чтобы найти книги, похожие друг на друга"
   ]
  },
  {
   "cell_type": "markdown",
   "id": "57fba5d0",
   "metadata": {},
   "source": [
    "# Преобразование текста:"
   ]
  },
  {
   "cell_type": "code",
   "execution_count": 3,
   "id": "8e49b71d",
   "metadata": {},
   "outputs": [
    {
     "name": "stderr",
     "output_type": "stream",
     "text": [
      "[nltk_data] Downloading package stopwords to /Users/alex/nltk_data...\n",
      "[nltk_data]   Unzipping corpora/stopwords.zip.\n"
     ]
    }
   ],
   "source": [
    "import nltk\n",
    "nltk.download('stopwords')\n",
    "from nltk.corpus import stopwords\n",
    "stop = stopwords.words('english')\n",
    "stop = set(stop)\n",
    "from string import punctuation"
   ]
  },
  {
   "cell_type": "code",
   "execution_count": 4,
   "id": "56b3de2e",
   "metadata": {},
   "outputs": [],
   "source": [
    "import re\n",
    "\n",
    "def lower(text):\n",
    "    return text.lower()\n",
    "\n",
    "def remove_punctuation(text):\n",
    "    return text.translate(str.maketrans('','', punctuation))\n",
    "\n",
    "def remove_stopwords(text):\n",
    "    return \" \".join([word for word in str(text).split() if word not in stop])\n",
    "\n",
    "def remove_digits(text):\n",
    "    return re.sub(r'\\d+', '', text)\n",
    "\n",
    "def clean_text(text):\n",
    "    text = lower(text)\n",
    "    text = remove_punctuation(text)\n",
    "    text = remove_stopwords(text)\n",
    "    text = remove_digits(text)\n",
    "    return text"
   ]
  },
  {
   "cell_type": "markdown",
   "id": "d89b40ff",
   "metadata": {},
   "source": [
    "## Создаем новые колонки с преобразованными \"Book_title\" и \"Description\":"
   ]
  },
  {
   "cell_type": "code",
   "execution_count": 5,
   "id": "e7e63dd5",
   "metadata": {},
   "outputs": [
    {
     "data": {
      "text/html": [
       "<div>\n",
       "<style scoped>\n",
       "    .dataframe tbody tr th:only-of-type {\n",
       "        vertical-align: middle;\n",
       "    }\n",
       "\n",
       "    .dataframe tbody tr th {\n",
       "        vertical-align: top;\n",
       "    }\n",
       "\n",
       "    .dataframe thead th {\n",
       "        text-align: right;\n",
       "    }\n",
       "</style>\n",
       "<table border=\"1\" class=\"dataframe\">\n",
       "  <thead>\n",
       "    <tr style=\"text-align: right;\">\n",
       "      <th></th>\n",
       "      <th>Rating</th>\n",
       "      <th>Reviews</th>\n",
       "      <th>Book_title</th>\n",
       "      <th>Description</th>\n",
       "      <th>Number_Of_Pages</th>\n",
       "      <th>Type</th>\n",
       "      <th>Price</th>\n",
       "      <th>clean_Book_title</th>\n",
       "      <th>clean_Description</th>\n",
       "    </tr>\n",
       "  </thead>\n",
       "  <tbody>\n",
       "    <tr>\n",
       "      <th>0</th>\n",
       "      <td>4.17</td>\n",
       "      <td>3,829</td>\n",
       "      <td>The Elements of Style</td>\n",
       "      <td>This style manual offers practical advice on i...</td>\n",
       "      <td>105</td>\n",
       "      <td>Hardcover</td>\n",
       "      <td>9.323529</td>\n",
       "      <td>elements style</td>\n",
       "      <td>style manual offers practical advice improving...</td>\n",
       "    </tr>\n",
       "    <tr>\n",
       "      <th>1</th>\n",
       "      <td>4.01</td>\n",
       "      <td>1,406</td>\n",
       "      <td>The Information: A History, a Theory, a Flood</td>\n",
       "      <td>James Gleick, the author of the best sellers C...</td>\n",
       "      <td>527</td>\n",
       "      <td>Hardcover</td>\n",
       "      <td>11.000000</td>\n",
       "      <td>information history theory flood</td>\n",
       "      <td>james gleick author best sellers chaos genius ...</td>\n",
       "    </tr>\n",
       "    <tr>\n",
       "      <th>2</th>\n",
       "      <td>3.33</td>\n",
       "      <td>0</td>\n",
       "      <td>Responsive Web Design Overview For Beginners</td>\n",
       "      <td>In Responsive Web Design Overview For Beginner...</td>\n",
       "      <td>50</td>\n",
       "      <td>Kindle Edition</td>\n",
       "      <td>11.267647</td>\n",
       "      <td>responsive web design overview beginners</td>\n",
       "      <td>responsive web design overview beginners youll...</td>\n",
       "    </tr>\n",
       "    <tr>\n",
       "      <th>3</th>\n",
       "      <td>3.97</td>\n",
       "      <td>1,658</td>\n",
       "      <td>Ghost in the Wires: My Adventures as the World...</td>\n",
       "      <td>If they were a hall of fame or shame for compu...</td>\n",
       "      <td>393</td>\n",
       "      <td>Hardcover</td>\n",
       "      <td>12.873529</td>\n",
       "      <td>ghost wires adventures worlds wanted hacker</td>\n",
       "      <td>hall fame shame computer hackers kevin mitnick...</td>\n",
       "    </tr>\n",
       "    <tr>\n",
       "      <th>4</th>\n",
       "      <td>4.06</td>\n",
       "      <td>1,325</td>\n",
       "      <td>How Google Works</td>\n",
       "      <td>Both Eric Schmidt and Jonathan Rosenberg came ...</td>\n",
       "      <td>305</td>\n",
       "      <td>Kindle Edition</td>\n",
       "      <td>13.164706</td>\n",
       "      <td>google works</td>\n",
       "      <td>eric schmidt jonathan rosenberg came google se...</td>\n",
       "    </tr>\n",
       "  </tbody>\n",
       "</table>\n",
       "</div>"
      ],
      "text/plain": [
       "   Rating Reviews                                         Book_title  \\\n",
       "0    4.17   3,829                              The Elements of Style   \n",
       "1    4.01   1,406      The Information: A History, a Theory, a Flood   \n",
       "2    3.33       0       Responsive Web Design Overview For Beginners   \n",
       "3    3.97   1,658  Ghost in the Wires: My Adventures as the World...   \n",
       "4    4.06   1,325                                   How Google Works   \n",
       "\n",
       "                                         Description  Number_Of_Pages  \\\n",
       "0  This style manual offers practical advice on i...              105   \n",
       "1  James Gleick, the author of the best sellers C...              527   \n",
       "2  In Responsive Web Design Overview For Beginner...               50   \n",
       "3  If they were a hall of fame or shame for compu...              393   \n",
       "4  Both Eric Schmidt and Jonathan Rosenberg came ...              305   \n",
       "\n",
       "             Type      Price                             clean_Book_title  \\\n",
       "0       Hardcover   9.323529                               elements style   \n",
       "1       Hardcover  11.000000             information history theory flood   \n",
       "2  Kindle Edition  11.267647     responsive web design overview beginners   \n",
       "3       Hardcover  12.873529  ghost wires adventures worlds wanted hacker   \n",
       "4  Kindle Edition  13.164706                                 google works   \n",
       "\n",
       "                                   clean_Description  \n",
       "0  style manual offers practical advice improving...  \n",
       "1  james gleick author best sellers chaos genius ...  \n",
       "2  responsive web design overview beginners youll...  \n",
       "3  hall fame shame computer hackers kevin mitnick...  \n",
       "4  eric schmidt jonathan rosenberg came google se...  "
      ]
     },
     "execution_count": 5,
     "metadata": {},
     "output_type": "execute_result"
    }
   ],
   "source": [
    "df['clean_Book_title'] = df['Book_title'].apply(clean_text)\n",
    "df['clean_Description']=df['Description'].apply(clean_text)\n",
    "df.head() "
   ]
  },
  {
   "cell_type": "markdown",
   "id": "bb4cabfb",
   "metadata": {},
   "source": [
    "# Создаем параметры модели: \n",
    "\n",
    "Делаем векторизацию"
   ]
  },
  {
   "cell_type": "code",
   "execution_count": 9,
   "id": "badbf933",
   "metadata": {},
   "outputs": [],
   "source": [
    "vectorizer = TfidfVectorizer(analyzer = 'word', lowercase=False)\n",
    "X = vectorizer.fit_transform(df['clean_Book_title'])\n",
    "title_vectors = X.toarray()\n",
    "desc_vectorizer = TfidfVectorizer(analyzer='word', lowercase=False)\n",
    "Y = desc_vectorizer.fit_transform(df['clean_Description'])\n",
    "desc_vectors = Y.toarray()"
   ]
  },
  {
   "cell_type": "markdown",
   "id": "d00f585b",
   "metadata": {},
   "source": [
    "# Строим рекомендательную систему:"
   ]
  },
  {
   "cell_type": "code",
   "execution_count": 10,
   "id": "96408a61",
   "metadata": {},
   "outputs": [],
   "source": [
    "def get_recommendations(value_of_element, feature_locate, df, vectors_array, feature_show):\n",
    "    index_of_element = df[df[feature_locate]==value_of_element].index.values[0]\n",
    "    show_value_of_element = df.iloc[index_of_element][feature_show]\n",
    "    df_without = df.drop(index_of_element).reset_index().drop(['index'], axis=1)\n",
    "    vectors_array = list(vectors_array)\n",
    "    target = vectors_array.pop(index_of_element).reshape(1,-1)\n",
    "    vectors_array = np.array(vectors_array)\n",
    "    most_similar_sklearn = cosine_similarity(target, vectors_array)[0]\n",
    "    idx = (-most_similar_sklearn).argsort()\n",
    "    all_values = df_without[[feature_show]]\n",
    "    for index in idx:\n",
    "        simular = all_values.values[idx]\n",
    "     \n",
    "    recommendations_df = pd.DataFrame({feature_show: show_value_of_element,\n",
    "                                    \"rec_1\": simular[0][0],\n",
    "                                    \"rec_2\": simular[1][0],\n",
    "                                    \"rec_3\": simular[2][0],\n",
    "                                    \"rec_4\": simular[3][0],\n",
    "                                    \"rec_5\": simular[4][0]}, index=[0])\n",
    "    return recommendations_df"
   ]
  },
  {
   "cell_type": "markdown",
   "id": "9fa70b0f",
   "metadata": {},
   "source": [
    "# Посмотрим на рекомендации книг по теме \"Алгоритмы\", опираясь на их название:"
   ]
  },
  {
   "cell_type": "code",
   "execution_count": 11,
   "id": "0d71cc6e",
   "metadata": {},
   "outputs": [
    {
     "data": {
      "text/html": [
       "<div>\n",
       "<style scoped>\n",
       "    .dataframe tbody tr th:only-of-type {\n",
       "        vertical-align: middle;\n",
       "    }\n",
       "\n",
       "    .dataframe tbody tr th {\n",
       "        vertical-align: top;\n",
       "    }\n",
       "\n",
       "    .dataframe thead th {\n",
       "        text-align: right;\n",
       "    }\n",
       "</style>\n",
       "<table border=\"1\" class=\"dataframe\">\n",
       "  <thead>\n",
       "    <tr style=\"text-align: right;\">\n",
       "      <th></th>\n",
       "      <th>Book_title</th>\n",
       "      <th>rec_1</th>\n",
       "      <th>rec_2</th>\n",
       "      <th>rec_3</th>\n",
       "      <th>rec_4</th>\n",
       "      <th>rec_5</th>\n",
       "    </tr>\n",
       "  </thead>\n",
       "  <tbody>\n",
       "    <tr>\n",
       "      <th>0</th>\n",
       "      <td>Algorithms</td>\n",
       "      <td>Introduction to Algorithms</td>\n",
       "      <td>Algorithms Unlocked</td>\n",
       "      <td>Data Structures and Algorithms</td>\n",
       "      <td>Computational Geometry: Algorithms and Applica...</td>\n",
       "      <td>The Art of Computer Programming, Volume 1: Fun...</td>\n",
       "    </tr>\n",
       "  </tbody>\n",
       "</table>\n",
       "</div>"
      ],
      "text/plain": [
       "   Book_title                       rec_1                rec_2  \\\n",
       "0  Algorithms  Introduction to Algorithms  Algorithms Unlocked   \n",
       "\n",
       "                            rec_3  \\\n",
       "0  Data Structures and Algorithms   \n",
       "\n",
       "                                               rec_4  \\\n",
       "0  Computational Geometry: Algorithms and Applica...   \n",
       "\n",
       "                                               rec_5  \n",
       "0  The Art of Computer Programming, Volume 1: Fun...  "
      ]
     },
     "execution_count": 11,
     "metadata": {},
     "output_type": "execute_result"
    }
   ],
   "source": [
    "get_recommendations(\"Algorithms\", 'Book_title', df, title_vectors, 'Book_title')"
   ]
  },
  {
   "cell_type": "markdown",
   "id": "2ded509c",
   "metadata": {},
   "source": [
    "### Дополнительно посмотрим на их цену и рейтинг:"
   ]
  },
  {
   "cell_type": "code",
   "execution_count": 12,
   "id": "ad19ead7",
   "metadata": {},
   "outputs": [
    {
     "data": {
      "text/html": [
       "<div>\n",
       "<style scoped>\n",
       "    .dataframe tbody tr th:only-of-type {\n",
       "        vertical-align: middle;\n",
       "    }\n",
       "\n",
       "    .dataframe tbody tr th {\n",
       "        vertical-align: top;\n",
       "    }\n",
       "\n",
       "    .dataframe thead th {\n",
       "        text-align: right;\n",
       "    }\n",
       "</style>\n",
       "<table border=\"1\" class=\"dataframe\">\n",
       "  <thead>\n",
       "    <tr style=\"text-align: right;\">\n",
       "      <th></th>\n",
       "      <th>Price</th>\n",
       "      <th>rec_1</th>\n",
       "      <th>rec_2</th>\n",
       "      <th>rec_3</th>\n",
       "      <th>rec_4</th>\n",
       "      <th>rec_5</th>\n",
       "    </tr>\n",
       "  </thead>\n",
       "  <tbody>\n",
       "    <tr>\n",
       "      <th>0</th>\n",
       "      <td>78.608824</td>\n",
       "      <td>92.255882</td>\n",
       "      <td>34.355882</td>\n",
       "      <td>53.173529</td>\n",
       "      <td>52.038235</td>\n",
       "      <td>93.455882</td>\n",
       "    </tr>\n",
       "  </tbody>\n",
       "</table>\n",
       "</div>"
      ],
      "text/plain": [
       "       Price      rec_1      rec_2      rec_3      rec_4      rec_5\n",
       "0  78.608824  92.255882  34.355882  53.173529  52.038235  93.455882"
      ]
     },
     "execution_count": 12,
     "metadata": {},
     "output_type": "execute_result"
    }
   ],
   "source": [
    "get_recommendations(\"Algorithms\", 'Book_title', df, title_vectors, 'Price')"
   ]
  },
  {
   "cell_type": "code",
   "execution_count": 13,
   "id": "9ff564c9",
   "metadata": {},
   "outputs": [
    {
     "data": {
      "text/html": [
       "<div>\n",
       "<style scoped>\n",
       "    .dataframe tbody tr th:only-of-type {\n",
       "        vertical-align: middle;\n",
       "    }\n",
       "\n",
       "    .dataframe tbody tr th {\n",
       "        vertical-align: top;\n",
       "    }\n",
       "\n",
       "    .dataframe thead th {\n",
       "        text-align: right;\n",
       "    }\n",
       "</style>\n",
       "<table border=\"1\" class=\"dataframe\">\n",
       "  <thead>\n",
       "    <tr style=\"text-align: right;\">\n",
       "      <th></th>\n",
       "      <th>Rating</th>\n",
       "      <th>rec_1</th>\n",
       "      <th>rec_2</th>\n",
       "      <th>rec_3</th>\n",
       "      <th>rec_4</th>\n",
       "      <th>rec_5</th>\n",
       "    </tr>\n",
       "  </thead>\n",
       "  <tbody>\n",
       "    <tr>\n",
       "      <th>0</th>\n",
       "      <td>4.41</td>\n",
       "      <td>4.33</td>\n",
       "      <td>4.16</td>\n",
       "      <td>3.93</td>\n",
       "      <td>4.12</td>\n",
       "      <td>4.37</td>\n",
       "    </tr>\n",
       "  </tbody>\n",
       "</table>\n",
       "</div>"
      ],
      "text/plain": [
       "   Rating  rec_1  rec_2  rec_3  rec_4  rec_5\n",
       "0    4.41   4.33   4.16   3.93   4.12   4.37"
      ]
     },
     "execution_count": 13,
     "metadata": {},
     "output_type": "execute_result"
    }
   ],
   "source": [
    "get_recommendations(\"Algorithms\", 'Book_title', df, title_vectors, 'Rating')"
   ]
  },
  {
   "cell_type": "markdown",
   "id": "cb849ac9",
   "metadata": {},
   "source": [
    "# Посмотрим на рекомендации книг по теме \"Алгоритмы\", опираясь на их описание:"
   ]
  },
  {
   "cell_type": "code",
   "execution_count": 14,
   "id": "4c9aa2cb",
   "metadata": {},
   "outputs": [
    {
     "data": {
      "text/html": [
       "<div>\n",
       "<style scoped>\n",
       "    .dataframe tbody tr th:only-of-type {\n",
       "        vertical-align: middle;\n",
       "    }\n",
       "\n",
       "    .dataframe tbody tr th {\n",
       "        vertical-align: top;\n",
       "    }\n",
       "\n",
       "    .dataframe thead th {\n",
       "        text-align: right;\n",
       "    }\n",
       "</style>\n",
       "<table border=\"1\" class=\"dataframe\">\n",
       "  <thead>\n",
       "    <tr style=\"text-align: right;\">\n",
       "      <th></th>\n",
       "      <th>Book_title</th>\n",
       "      <th>rec_1</th>\n",
       "      <th>rec_2</th>\n",
       "      <th>rec_3</th>\n",
       "      <th>rec_4</th>\n",
       "      <th>rec_5</th>\n",
       "    </tr>\n",
       "  </thead>\n",
       "  <tbody>\n",
       "    <tr>\n",
       "      <th>0</th>\n",
       "      <td>Algorithms</td>\n",
       "      <td>Data Structures and Algorithms</td>\n",
       "      <td>Mining of Massive Datasets</td>\n",
       "      <td>Database System Concepts</td>\n",
       "      <td>Introduction to Algorithms</td>\n",
       "      <td>Algorithm Design</td>\n",
       "    </tr>\n",
       "  </tbody>\n",
       "</table>\n",
       "</div>"
      ],
      "text/plain": [
       "   Book_title                           rec_1                       rec_2  \\\n",
       "0  Algorithms  Data Structures and Algorithms  Mining of Massive Datasets   \n",
       "\n",
       "                      rec_3                       rec_4             rec_5  \n",
       "0  Database System Concepts  Introduction to Algorithms  Algorithm Design  "
      ]
     },
     "execution_count": 14,
     "metadata": {},
     "output_type": "execute_result"
    }
   ],
   "source": [
    "get_recommendations(\"Algorithms\", 'Book_title', df, desc_vectors, 'Book_title')"
   ]
  },
  {
   "cell_type": "markdown",
   "id": "54ea7e38",
   "metadata": {},
   "source": [
    "### Вывод: Можно видеть, что рекомендации, построенные по описанию и по названию отличаются. Посмотрим, два этих подхода на другой теме. "
   ]
  },
  {
   "cell_type": "code",
   "execution_count": 15,
   "id": "0b566d21",
   "metadata": {},
   "outputs": [
    {
     "data": {
      "text/html": [
       "<div>\n",
       "<style scoped>\n",
       "    .dataframe tbody tr th:only-of-type {\n",
       "        vertical-align: middle;\n",
       "    }\n",
       "\n",
       "    .dataframe tbody tr th {\n",
       "        vertical-align: top;\n",
       "    }\n",
       "\n",
       "    .dataframe thead th {\n",
       "        text-align: right;\n",
       "    }\n",
       "</style>\n",
       "<table border=\"1\" class=\"dataframe\">\n",
       "  <thead>\n",
       "    <tr style=\"text-align: right;\">\n",
       "      <th></th>\n",
       "      <th>Book_title</th>\n",
       "      <th>rec_1</th>\n",
       "      <th>rec_2</th>\n",
       "      <th>rec_3</th>\n",
       "      <th>rec_4</th>\n",
       "      <th>rec_5</th>\n",
       "    </tr>\n",
       "  </thead>\n",
       "  <tbody>\n",
       "    <tr>\n",
       "      <th>0</th>\n",
       "      <td>Unity in Action</td>\n",
       "      <td>Building an FPS Game with Unity</td>\n",
       "      <td>Unity Virtual Reality Projects</td>\n",
       "      <td>Coding Games in Scratch</td>\n",
       "      <td>Introduction to Game Design, Prototyping, and ...</td>\n",
       "      <td>Game Programming Gems 4</td>\n",
       "    </tr>\n",
       "  </tbody>\n",
       "</table>\n",
       "</div>"
      ],
      "text/plain": [
       "        Book_title                            rec_1  \\\n",
       "0  Unity in Action  Building an FPS Game with Unity   \n",
       "\n",
       "                            rec_2                    rec_3  \\\n",
       "0  Unity Virtual Reality Projects  Coding Games in Scratch   \n",
       "\n",
       "                                               rec_4                    rec_5  \n",
       "0  Introduction to Game Design, Prototyping, and ...  Game Programming Gems 4  "
      ]
     },
     "execution_count": 15,
     "metadata": {},
     "output_type": "execute_result"
    }
   ],
   "source": [
    "get_recommendations(\"Unity in Action\", 'Book_title', df, desc_vectors, 'Book_title')"
   ]
  },
  {
   "cell_type": "code",
   "execution_count": 16,
   "id": "aa78cc5d",
   "metadata": {},
   "outputs": [
    {
     "data": {
      "text/html": [
       "<div>\n",
       "<style scoped>\n",
       "    .dataframe tbody tr th:only-of-type {\n",
       "        vertical-align: middle;\n",
       "    }\n",
       "\n",
       "    .dataframe tbody tr th {\n",
       "        vertical-align: top;\n",
       "    }\n",
       "\n",
       "    .dataframe thead th {\n",
       "        text-align: right;\n",
       "    }\n",
       "</style>\n",
       "<table border=\"1\" class=\"dataframe\">\n",
       "  <thead>\n",
       "    <tr style=\"text-align: right;\">\n",
       "      <th></th>\n",
       "      <th>Book_title</th>\n",
       "      <th>rec_1</th>\n",
       "      <th>rec_2</th>\n",
       "      <th>rec_3</th>\n",
       "      <th>rec_4</th>\n",
       "      <th>rec_5</th>\n",
       "    </tr>\n",
       "  </thead>\n",
       "  <tbody>\n",
       "    <tr>\n",
       "      <th>0</th>\n",
       "      <td>Unity in Action</td>\n",
       "      <td>Building an FPS Game with Unity</td>\n",
       "      <td>Unity Virtual Reality Projects</td>\n",
       "      <td>Start with Why: How Great Leaders Inspire Ever...</td>\n",
       "      <td>Introduction to Game Design, Prototyping, and ...</td>\n",
       "      <td>The Elements of Style</td>\n",
       "    </tr>\n",
       "  </tbody>\n",
       "</table>\n",
       "</div>"
      ],
      "text/plain": [
       "        Book_title                            rec_1  \\\n",
       "0  Unity in Action  Building an FPS Game with Unity   \n",
       "\n",
       "                            rec_2  \\\n",
       "0  Unity Virtual Reality Projects   \n",
       "\n",
       "                                               rec_3  \\\n",
       "0  Start with Why: How Great Leaders Inspire Ever...   \n",
       "\n",
       "                                               rec_4                  rec_5  \n",
       "0  Introduction to Game Design, Prototyping, and ...  The Elements of Style  "
      ]
     },
     "execution_count": 16,
     "metadata": {},
     "output_type": "execute_result"
    }
   ],
   "source": [
    "get_recommendations(\"Unity in Action\", 'Book_title', df, title_vectors, 'Book_title')"
   ]
  },
  {
   "cell_type": "markdown",
   "id": "33397a17",
   "metadata": {},
   "source": [
    "# Также мы можем получить доступ к книгам по какому-то уникальному значению, например, по количеству отзывов и по ID книги:"
   ]
  },
  {
   "cell_type": "code",
   "execution_count": 17,
   "id": "734cb400",
   "metadata": {},
   "outputs": [
    {
     "data": {
      "text/html": [
       "<div>\n",
       "<style scoped>\n",
       "    .dataframe tbody tr th:only-of-type {\n",
       "        vertical-align: middle;\n",
       "    }\n",
       "\n",
       "    .dataframe tbody tr th {\n",
       "        vertical-align: top;\n",
       "    }\n",
       "\n",
       "    .dataframe thead th {\n",
       "        text-align: right;\n",
       "    }\n",
       "</style>\n",
       "<table border=\"1\" class=\"dataframe\">\n",
       "  <thead>\n",
       "    <tr style=\"text-align: right;\">\n",
       "      <th></th>\n",
       "      <th>Book_title</th>\n",
       "      <th>rec_1</th>\n",
       "      <th>rec_2</th>\n",
       "      <th>rec_3</th>\n",
       "      <th>rec_4</th>\n",
       "      <th>rec_5</th>\n",
       "    </tr>\n",
       "  </thead>\n",
       "  <tbody>\n",
       "    <tr>\n",
       "      <th>0</th>\n",
       "      <td>The Information: A History, a Theory, a Flood</td>\n",
       "      <td>Introduction to the Theory of Computation</td>\n",
       "      <td>The Visual Display of Quantitative Information</td>\n",
       "      <td>Elements of the Theory of Computation</td>\n",
       "      <td>A First Course in Logic: An Introduction to Mo...</td>\n",
       "      <td>Basic Proof Theory</td>\n",
       "    </tr>\n",
       "  </tbody>\n",
       "</table>\n",
       "</div>"
      ],
      "text/plain": [
       "                                      Book_title  \\\n",
       "0  The Information: A History, a Theory, a Flood   \n",
       "\n",
       "                                       rec_1  \\\n",
       "0  Introduction to the Theory of Computation   \n",
       "\n",
       "                                            rec_2  \\\n",
       "0  The Visual Display of Quantitative Information   \n",
       "\n",
       "                                   rec_3  \\\n",
       "0  Elements of the Theory of Computation   \n",
       "\n",
       "                                               rec_4               rec_5  \n",
       "0  A First Course in Logic: An Introduction to Mo...  Basic Proof Theory  "
      ]
     },
     "execution_count": 17,
     "metadata": {},
     "output_type": "execute_result"
    }
   ],
   "source": [
    "get_recommendations(\"1,406\", 'Reviews',  df, title_vectors, 'Book_title')"
   ]
  },
  {
   "cell_type": "code",
   "execution_count": 18,
   "id": "bb8bb458",
   "metadata": {},
   "outputs": [
    {
     "data": {
      "text/html": [
       "<div>\n",
       "<style scoped>\n",
       "    .dataframe tbody tr th:only-of-type {\n",
       "        vertical-align: middle;\n",
       "    }\n",
       "\n",
       "    .dataframe tbody tr th {\n",
       "        vertical-align: top;\n",
       "    }\n",
       "\n",
       "    .dataframe thead th {\n",
       "        text-align: right;\n",
       "    }\n",
       "</style>\n",
       "<table border=\"1\" class=\"dataframe\">\n",
       "  <thead>\n",
       "    <tr style=\"text-align: right;\">\n",
       "      <th></th>\n",
       "      <th>Book_title</th>\n",
       "      <th>rec_1</th>\n",
       "      <th>rec_2</th>\n",
       "      <th>rec_3</th>\n",
       "      <th>rec_4</th>\n",
       "      <th>rec_5</th>\n",
       "    </tr>\n",
       "  </thead>\n",
       "  <tbody>\n",
       "    <tr>\n",
       "      <th>0</th>\n",
       "      <td>The Information: A History, a Theory, a Flood</td>\n",
       "      <td>Introduction to the Theory of Computation</td>\n",
       "      <td>The Visual Display of Quantitative Information</td>\n",
       "      <td>Elements of the Theory of Computation</td>\n",
       "      <td>A First Course in Logic: An Introduction to Mo...</td>\n",
       "      <td>Basic Proof Theory</td>\n",
       "    </tr>\n",
       "  </tbody>\n",
       "</table>\n",
       "</div>"
      ],
      "text/plain": [
       "                                      Book_title  \\\n",
       "0  The Information: A History, a Theory, a Flood   \n",
       "\n",
       "                                       rec_1  \\\n",
       "0  Introduction to the Theory of Computation   \n",
       "\n",
       "                                            rec_2  \\\n",
       "0  The Visual Display of Quantitative Information   \n",
       "\n",
       "                                   rec_3  \\\n",
       "0  Elements of the Theory of Computation   \n",
       "\n",
       "                                               rec_4               rec_5  \n",
       "0  A First Course in Logic: An Introduction to Mo...  Basic Proof Theory  "
      ]
     },
     "execution_count": 18,
     "metadata": {},
     "output_type": "execute_result"
    }
   ],
   "source": [
    "get_recommendations(\"The Information: A History, a Theory, a Flood\", 'Book_title', df, title_vectors, 'Book_title')"
   ]
  },
  {
   "cell_type": "code",
   "execution_count": null,
   "id": "db1006e9",
   "metadata": {},
   "outputs": [],
   "source": []
  }
 ],
 "metadata": {
  "kernelspec": {
   "display_name": "Python 3",
   "language": "python",
   "name": "python3"
  },
  "language_info": {
   "codemirror_mode": {
    "name": "ipython",
    "version": 3
   },
   "file_extension": ".py",
   "mimetype": "text/x-python",
   "name": "python",
   "nbconvert_exporter": "python",
   "pygments_lexer": "ipython3",
   "version": "3.8.8"
  }
 },
 "nbformat": 4,
 "nbformat_minor": 5
}
